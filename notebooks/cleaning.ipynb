{
 "cells": [
  {
   "cell_type": "code",
   "execution_count": 1,
   "id": "edab77df",
   "metadata": {},
   "outputs": [],
   "source": [
    "import pandas as pd\n",
    "import numpy as np\n",
    "from datetime import datetime\n",
    "import os.path\n",
    "import requests\n",
    "import json"
   ]
  },
  {
   "cell_type": "code",
   "execution_count": 4,
   "id": "862f7755",
   "metadata": {},
   "outputs": [],
   "source": [
    "# in case is not the right path\n",
    "try:\n",
    "    os.chdir(os.path.join(os.getcwd(), 'notebooks')) \n",
    "    print(os.getcwd())\n",
    "except:\n",
    "    pass"
   ]
  },
  {
   "cell_type": "markdown",
   "id": "309f2a25",
   "metadata": {},
   "source": [
    "# Data cleaning"
   ]
  },
  {
   "cell_type": "markdown",
   "id": "c837b608",
   "metadata": {},
   "source": [
    "## Processing `paper_references.csv`"
   ]
  },
  {
   "cell_type": "code",
   "execution_count": 2,
   "id": "2b3ca1cd",
   "metadata": {},
   "outputs": [],
   "source": [
    "papers_df = pd.read_csv(\"../data/raw/raw-paper_references.csv\")"
   ]
  },
  {
   "cell_type": "markdown",
   "id": "a77c6027",
   "metadata": {},
   "source": [
    "Null values in the DOI column are represented as different strings, so we remove all values that do not look like a DOI (do not start witn \"10.\")"
   ]
  },
  {
   "cell_type": "code",
   "execution_count": 3,
   "id": "f58ca714",
   "metadata": {
    "scrolled": true
   },
   "outputs": [
    {
     "data": {
      "text/html": [
       "<div>\n",
       "<style scoped>\n",
       "    .dataframe tbody tr th:only-of-type {\n",
       "        vertical-align: middle;\n",
       "    }\n",
       "\n",
       "    .dataframe tbody tr th {\n",
       "        vertical-align: top;\n",
       "    }\n",
       "\n",
       "    .dataframe thead th {\n",
       "        text-align: right;\n",
       "    }\n",
       "</style>\n",
       "<table border=\"1\" class=\"dataframe\">\n",
       "  <thead>\n",
       "    <tr style=\"text-align: right;\">\n",
       "      <th></th>\n",
       "      <th>ID</th>\n",
       "      <th>valid</th>\n",
       "      <th>No_de_Ref</th>\n",
       "      <th>new_ref</th>\n",
       "      <th>filename</th>\n",
       "      <th>DOI</th>\n",
       "      <th>Title</th>\n",
       "      <th>Year</th>\n",
       "      <th>Journal</th>\n",
       "      <th>Pages</th>\n",
       "      <th>Issue</th>\n",
       "      <th>Abstract</th>\n",
       "      <th>Authors</th>\n",
       "      <th>Volume</th>\n",
       "      <th>Corresponding_author</th>\n",
       "      <th>Country</th>\n",
       "      <th>Country_name</th>\n",
       "    </tr>\n",
       "  </thead>\n",
       "  <tbody>\n",
       "    <tr>\n",
       "      <th>0</th>\n",
       "      <td>1</td>\n",
       "      <td>1</td>\n",
       "      <td>1</td>\n",
       "      <td>1</td>\n",
       "      <td>1-s2.0-S092633731000086X-main</td>\n",
       "      <td>10.1016/j.apcatb.2010.02.030</td>\n",
       "      <td>\"Effect of silver doping on the TiO2 for photo...</td>\n",
       "      <td>2010</td>\n",
       "      <td>APPLIED CATALYSIS B-ENVIRONMENTAL</td>\n",
       "      <td>239</td>\n",
       "      <td>NaN</td>\n",
       "      <td>\"Pure TiO2 and various silver-enriched TiO2 po...</td>\n",
       "      <td>\"K. Ko\\u010d\\u00ed, K. Mat\\u011bj\\u016f, L. Ob...</td>\n",
       "      <td>96</td>\n",
       "      <td>kamila.koci@vsb.cz</td>\n",
       "      <td>\"CZ,CZ,CZ,CZ,CZ,CZ,CZ,CZ,CZ\"</td>\n",
       "      <td>\"Czech Republic,Czech Republic,Czech Republic,...</td>\n",
       "    </tr>\n",
       "    <tr>\n",
       "      <th>1</th>\n",
       "      <td>2</td>\n",
       "      <td>1</td>\n",
       "      <td>2</td>\n",
       "      <td>2</td>\n",
       "      <td>10.1016@j.cattod.2009.07.067</td>\n",
       "      <td>10.1016/j.cattod.2009.07.067</td>\n",
       "      <td>\"CO2 reforming into fuel using TiO2 photocatal...</td>\n",
       "      <td>2009</td>\n",
       "      <td>CATALYSIS TODAY</td>\n",
       "      <td>341</td>\n",
       "      <td>NaN</td>\n",
       "      <td>\"It was previously reported that CO2 could be ...</td>\n",
       "      <td>\"A. Nishimura, N. Komatsu, G. Mitsui, M. Hirot...</td>\n",
       "      <td>148</td>\n",
       "      <td>nisimura@mach.mie-u.ac.jp</td>\n",
       "      <td>\"JP,JP,JP,JP,AU\"</td>\n",
       "      <td>\"Japan,Japan,Japan,Japan,Australia\"</td>\n",
       "    </tr>\n",
       "    <tr>\n",
       "      <th>2</th>\n",
       "      <td>3</td>\n",
       "      <td>1</td>\n",
       "      <td>3</td>\n",
       "      <td>3</td>\n",
       "      <td>1-s2.0-S0926860X05006125-main</td>\n",
       "      <td>10.1016/j.apcata.2005.08.021</td>\n",
       "      <td>\"Photo reduction of CO2 to methanol using opti...</td>\n",
       "      <td>2005</td>\n",
       "      <td>APPLIED CATALYSIS A-GENERAL</td>\n",
       "      <td>194</td>\n",
       "      <td>NaN</td>\n",
       "      <td>\"Greenhouse gases such as CO2 are the primary ...</td>\n",
       "      <td>\"J.C.S. Wu, H-M. Lin ,C-L. Lai\"</td>\n",
       "      <td>269</td>\n",
       "      <td>cswu@ntu.edu.tw</td>\n",
       "      <td>\"TW,TW,TW\"</td>\n",
       "      <td>\"Taiwan,Taiwan,Taiwan\"</td>\n",
       "    </tr>\n",
       "    <tr>\n",
       "      <th>3</th>\n",
       "      <td>4</td>\n",
       "      <td>1</td>\n",
       "      <td>4</td>\n",
       "      <td>4</td>\n",
       "      <td>27362718_Photo_reduction_of_CO2_to_methanol_vi...</td>\n",
       "      <td>10.1155/S1110662X05000176</td>\n",
       "      <td>\"Photo reduction of CO2 to methanol via TiO2 p...</td>\n",
       "      <td>2005</td>\n",
       "      <td>INTERNATIONAL JOURNAL OF PHOTOENERGY</td>\n",
       "      <td>115</td>\n",
       "      <td>NaN</td>\n",
       "      <td>\"Greenhouse gas such as CO2 is the primary cau...</td>\n",
       "      <td>\"J.C.S. Wu, H-M. Lin ,C-L. Lai\"</td>\n",
       "      <td>7</td>\n",
       "      <td>cswu@ntu.edu.tw</td>\n",
       "      <td>\"TW,TW\"</td>\n",
       "      <td>\"Taiwan,Taiwan\"</td>\n",
       "    </tr>\n",
       "    <tr>\n",
       "      <th>4</th>\n",
       "      <td>5</td>\n",
       "      <td>1</td>\n",
       "      <td>5</td>\n",
       "      <td>5</td>\n",
       "      <td>10.1023@A@1011403320301</td>\n",
       "      <td>10.1023/A:1011403320301</td>\n",
       "      <td>\"A new type of photocatalysis initiated by pho...</td>\n",
       "      <td>2000</td>\n",
       "      <td>CATALYSIS SURVEYS FROM JAPAN</td>\n",
       "      <td>107</td>\n",
       "      <td>2</td>\n",
       "      <td>\"ZrO2 has been found to be an effective photoc...</td>\n",
       "      <td>\"S. Yoshida, Y. Kohno\"</td>\n",
       "      <td>4</td>\n",
       "      <td>artleafs.admin@artleafs.eu</td>\n",
       "      <td>\"JP,JP\"</td>\n",
       "      <td>\"Japan,Japan\"</td>\n",
       "    </tr>\n",
       "  </tbody>\n",
       "</table>\n",
       "</div>"
      ],
      "text/plain": [
       "   ID  valid  No_de_Ref  new_ref  \\\n",
       "0   1      1          1        1   \n",
       "1   2      1          2        2   \n",
       "2   3      1          3        3   \n",
       "3   4      1          4        4   \n",
       "4   5      1          5        5   \n",
       "\n",
       "                                            filename  \\\n",
       "0                      1-s2.0-S092633731000086X-main   \n",
       "1                       10.1016@j.cattod.2009.07.067   \n",
       "2                      1-s2.0-S0926860X05006125-main   \n",
       "3  27362718_Photo_reduction_of_CO2_to_methanol_vi...   \n",
       "4                            10.1023@A@1011403320301   \n",
       "\n",
       "                            DOI  \\\n",
       "0  10.1016/j.apcatb.2010.02.030   \n",
       "1  10.1016/j.cattod.2009.07.067   \n",
       "2  10.1016/j.apcata.2005.08.021   \n",
       "3     10.1155/S1110662X05000176   \n",
       "4       10.1023/A:1011403320301   \n",
       "\n",
       "                                               Title  Year  \\\n",
       "0  \"Effect of silver doping on the TiO2 for photo...  2010   \n",
       "1  \"CO2 reforming into fuel using TiO2 photocatal...  2009   \n",
       "2  \"Photo reduction of CO2 to methanol using opti...  2005   \n",
       "3  \"Photo reduction of CO2 to methanol via TiO2 p...  2005   \n",
       "4  \"A new type of photocatalysis initiated by pho...  2000   \n",
       "\n",
       "                                Journal Pages Issue  \\\n",
       "0     APPLIED CATALYSIS B-ENVIRONMENTAL   239   NaN   \n",
       "1                       CATALYSIS TODAY   341   NaN   \n",
       "2           APPLIED CATALYSIS A-GENERAL   194   NaN   \n",
       "3  INTERNATIONAL JOURNAL OF PHOTOENERGY   115   NaN   \n",
       "4          CATALYSIS SURVEYS FROM JAPAN   107     2   \n",
       "\n",
       "                                            Abstract  \\\n",
       "0  \"Pure TiO2 and various silver-enriched TiO2 po...   \n",
       "1  \"It was previously reported that CO2 could be ...   \n",
       "2  \"Greenhouse gases such as CO2 are the primary ...   \n",
       "3  \"Greenhouse gas such as CO2 is the primary cau...   \n",
       "4  \"ZrO2 has been found to be an effective photoc...   \n",
       "\n",
       "                                             Authors Volume  \\\n",
       "0  \"K. Ko\\u010d\\u00ed, K. Mat\\u011bj\\u016f, L. Ob...     96   \n",
       "1  \"A. Nishimura, N. Komatsu, G. Mitsui, M. Hirot...    148   \n",
       "2                    \"J.C.S. Wu, H-M. Lin ,C-L. Lai\"    269   \n",
       "3                    \"J.C.S. Wu, H-M. Lin ,C-L. Lai\"      7   \n",
       "4                             \"S. Yoshida, Y. Kohno\"      4   \n",
       "\n",
       "         Corresponding_author                       Country  \\\n",
       "0          kamila.koci@vsb.cz  \"CZ,CZ,CZ,CZ,CZ,CZ,CZ,CZ,CZ\"   \n",
       "1   nisimura@mach.mie-u.ac.jp              \"JP,JP,JP,JP,AU\"   \n",
       "2             cswu@ntu.edu.tw                    \"TW,TW,TW\"   \n",
       "3             cswu@ntu.edu.tw                       \"TW,TW\"   \n",
       "4  artleafs.admin@artleafs.eu                       \"JP,JP\"   \n",
       "\n",
       "                                        Country_name  \n",
       "0  \"Czech Republic,Czech Republic,Czech Republic,...  \n",
       "1                \"Japan,Japan,Japan,Japan,Australia\"  \n",
       "2                             \"Taiwan,Taiwan,Taiwan\"  \n",
       "3                                    \"Taiwan,Taiwan\"  \n",
       "4                                      \"Japan,Japan\"  "
      ]
     },
     "execution_count": 3,
     "metadata": {},
     "output_type": "execute_result"
    }
   ],
   "source": [
    "papers_df['DOI'] = papers_df['DOI'].replace('^(?!10).*', '', regex=True)\n",
    "papers_df.head(5)"
   ]
  },
  {
   "cell_type": "markdown",
   "id": "380da452",
   "metadata": {},
   "source": [
    "### Export"
   ]
  },
  {
   "cell_type": "code",
   "execution_count": 4,
   "id": "26eafeb9",
   "metadata": {},
   "outputs": [],
   "source": [
    "papers_df.to_csv(\"../data/processed/paper_references.csv\", index=False, sep=\",\")"
   ]
  },
  {
   "cell_type": "markdown",
   "id": "5812a021",
   "metadata": {},
   "source": [
    "## OpenAlex papers"
   ]
  },
  {
   "cell_type": "markdown",
   "id": "5a7ba1cf",
   "metadata": {},
   "source": [
    "### Taking list of DOIs"
   ]
  },
  {
   "cell_type": "code",
   "execution_count": 7,
   "id": "eae3705c",
   "metadata": {},
   "outputs": [],
   "source": [
    "papers_df = pd.read_csv(\"../data/processed/paper_references_curated.csv\", sep=';')"
   ]
  },
  {
   "cell_type": "markdown",
   "id": "6bb7a29e",
   "metadata": {},
   "source": [
    "Manual corrections in erroneous DOIs in `paper_references_curated.csv`\n",
    "- 10.22146/ijc.841 --> 10.22146/ijc.21248\n",
    "- paper con doi (incorrecto) 10.1007/s11244-017-0797 is repeated, the correct DOI is 10.1007/s11244-017-0797-x (appears in a previous row)\n",
    "- 10.6084/m9.figshare.12715484 --> 10.1038/s41467-020-18350-7\n",
    "- 10.1002/anie.x0xx00000x --> 10.1002/ange.202012019\n",
    "- 10.1007/s10562-020-03426 --> 10.1007/s10562-020-03426-2\n",
    "- 10.1002/slct.20200 --> 10.1002/slct.202004839\n",
    "\n",
    "Papers without DOI:\n",
    "- Kinetic study of photocatalytic reduction of CO2 over TiO2 --> https://openalex.org/W1629652031\n",
    "- A study on the photoreduction of green house CO2 gas catalized by TiO2 to form methane an methanol --> not in OpenAlex\n",
    "- Selective ethanol synthesis from carbon dioxide --> 10.1595/003214097x414166170\n",
    "- Selective photoreduction of CO2HCO3 - to formate by aqueous suspensions and colloids of Pd-TiO2 --> 10.1021/j100372a080\n",
    " \n"
   ]
  },
  {
   "cell_type": "markdown",
   "id": "75d2ad5b",
   "metadata": {},
   "source": [
    "### Downloading individual JSON files per paper from the DOI"
   ]
  },
  {
   "cell_type": "code",
   "execution_count": 6,
   "id": "5d14f3f0",
   "metadata": {},
   "outputs": [
    {
     "ename": "SSLError",
     "evalue": "HTTPSConnectionPool(host='api.openalex.org', port=443): Max retries exceeded with url: /works/https://doi.org/10.1016/j.apcatb.2010.02.030 (Caused by SSLError(SSLZeroReturnError(6, 'TLS/SSL connection has been closed (EOF) (_ssl.c:1133)')))",
     "output_type": "error",
     "traceback": [
      "\u001b[0;31m---------------------------------------------------------------------------\u001b[0m",
      "\u001b[0;31mSSLZeroReturnError\u001b[0m                        Traceback (most recent call last)",
      "File \u001b[0;32m~/miniconda3/envs/kgc/lib/python3.9/site-packages/urllib3/connectionpool.py:466\u001b[0m, in \u001b[0;36mHTTPConnectionPool._make_request\u001b[0;34m(self, conn, method, url, body, headers, retries, timeout, chunked, response_conn, preload_content, decode_content, enforce_content_length)\u001b[0m\n\u001b[1;32m    465\u001b[0m \u001b[38;5;28;01mtry\u001b[39;00m:\n\u001b[0;32m--> 466\u001b[0m     \u001b[38;5;28;43mself\u001b[39;49m\u001b[38;5;241;43m.\u001b[39;49m\u001b[43m_validate_conn\u001b[49m\u001b[43m(\u001b[49m\u001b[43mconn\u001b[49m\u001b[43m)\u001b[49m\n\u001b[1;32m    467\u001b[0m \u001b[38;5;28;01mexcept\u001b[39;00m (SocketTimeout, BaseSSLError) \u001b[38;5;28;01mas\u001b[39;00m e:\n",
      "File \u001b[0;32m~/miniconda3/envs/kgc/lib/python3.9/site-packages/urllib3/connectionpool.py:1095\u001b[0m, in \u001b[0;36mHTTPSConnectionPool._validate_conn\u001b[0;34m(self, conn)\u001b[0m\n\u001b[1;32m   1094\u001b[0m \u001b[38;5;28;01mif\u001b[39;00m conn\u001b[38;5;241m.\u001b[39mis_closed:\n\u001b[0;32m-> 1095\u001b[0m     \u001b[43mconn\u001b[49m\u001b[38;5;241;43m.\u001b[39;49m\u001b[43mconnect\u001b[49m\u001b[43m(\u001b[49m\u001b[43m)\u001b[49m\n\u001b[1;32m   1097\u001b[0m \u001b[38;5;66;03m# TODO revise this, see https://github.com/urllib3/urllib3/issues/2791\u001b[39;00m\n",
      "File \u001b[0;32m~/miniconda3/envs/kgc/lib/python3.9/site-packages/urllib3/connection.py:652\u001b[0m, in \u001b[0;36mHTTPSConnection.connect\u001b[0;34m(self)\u001b[0m\n\u001b[1;32m    650\u001b[0m server_hostname_rm_dot \u001b[38;5;241m=\u001b[39m server_hostname\u001b[38;5;241m.\u001b[39mrstrip(\u001b[38;5;124m\"\u001b[39m\u001b[38;5;124m.\u001b[39m\u001b[38;5;124m\"\u001b[39m)\n\u001b[0;32m--> 652\u001b[0m sock_and_verified \u001b[38;5;241m=\u001b[39m \u001b[43m_ssl_wrap_socket_and_match_hostname\u001b[49m\u001b[43m(\u001b[49m\n\u001b[1;32m    653\u001b[0m \u001b[43m    \u001b[49m\u001b[43msock\u001b[49m\u001b[38;5;241;43m=\u001b[39;49m\u001b[43msock\u001b[49m\u001b[43m,\u001b[49m\n\u001b[1;32m    654\u001b[0m \u001b[43m    \u001b[49m\u001b[43mcert_reqs\u001b[49m\u001b[38;5;241;43m=\u001b[39;49m\u001b[38;5;28;43mself\u001b[39;49m\u001b[38;5;241;43m.\u001b[39;49m\u001b[43mcert_reqs\u001b[49m\u001b[43m,\u001b[49m\n\u001b[1;32m    655\u001b[0m \u001b[43m    \u001b[49m\u001b[43mssl_version\u001b[49m\u001b[38;5;241;43m=\u001b[39;49m\u001b[38;5;28;43mself\u001b[39;49m\u001b[38;5;241;43m.\u001b[39;49m\u001b[43mssl_version\u001b[49m\u001b[43m,\u001b[49m\n\u001b[1;32m    656\u001b[0m \u001b[43m    \u001b[49m\u001b[43mssl_minimum_version\u001b[49m\u001b[38;5;241;43m=\u001b[39;49m\u001b[38;5;28;43mself\u001b[39;49m\u001b[38;5;241;43m.\u001b[39;49m\u001b[43mssl_minimum_version\u001b[49m\u001b[43m,\u001b[49m\n\u001b[1;32m    657\u001b[0m \u001b[43m    \u001b[49m\u001b[43mssl_maximum_version\u001b[49m\u001b[38;5;241;43m=\u001b[39;49m\u001b[38;5;28;43mself\u001b[39;49m\u001b[38;5;241;43m.\u001b[39;49m\u001b[43mssl_maximum_version\u001b[49m\u001b[43m,\u001b[49m\n\u001b[1;32m    658\u001b[0m \u001b[43m    \u001b[49m\u001b[43mca_certs\u001b[49m\u001b[38;5;241;43m=\u001b[39;49m\u001b[38;5;28;43mself\u001b[39;49m\u001b[38;5;241;43m.\u001b[39;49m\u001b[43mca_certs\u001b[49m\u001b[43m,\u001b[49m\n\u001b[1;32m    659\u001b[0m \u001b[43m    \u001b[49m\u001b[43mca_cert_dir\u001b[49m\u001b[38;5;241;43m=\u001b[39;49m\u001b[38;5;28;43mself\u001b[39;49m\u001b[38;5;241;43m.\u001b[39;49m\u001b[43mca_cert_dir\u001b[49m\u001b[43m,\u001b[49m\n\u001b[1;32m    660\u001b[0m \u001b[43m    \u001b[49m\u001b[43mca_cert_data\u001b[49m\u001b[38;5;241;43m=\u001b[39;49m\u001b[38;5;28;43mself\u001b[39;49m\u001b[38;5;241;43m.\u001b[39;49m\u001b[43mca_cert_data\u001b[49m\u001b[43m,\u001b[49m\n\u001b[1;32m    661\u001b[0m \u001b[43m    \u001b[49m\u001b[43mcert_file\u001b[49m\u001b[38;5;241;43m=\u001b[39;49m\u001b[38;5;28;43mself\u001b[39;49m\u001b[38;5;241;43m.\u001b[39;49m\u001b[43mcert_file\u001b[49m\u001b[43m,\u001b[49m\n\u001b[1;32m    662\u001b[0m \u001b[43m    \u001b[49m\u001b[43mkey_file\u001b[49m\u001b[38;5;241;43m=\u001b[39;49m\u001b[38;5;28;43mself\u001b[39;49m\u001b[38;5;241;43m.\u001b[39;49m\u001b[43mkey_file\u001b[49m\u001b[43m,\u001b[49m\n\u001b[1;32m    663\u001b[0m \u001b[43m    \u001b[49m\u001b[43mkey_password\u001b[49m\u001b[38;5;241;43m=\u001b[39;49m\u001b[38;5;28;43mself\u001b[39;49m\u001b[38;5;241;43m.\u001b[39;49m\u001b[43mkey_password\u001b[49m\u001b[43m,\u001b[49m\n\u001b[1;32m    664\u001b[0m \u001b[43m    \u001b[49m\u001b[43mserver_hostname\u001b[49m\u001b[38;5;241;43m=\u001b[39;49m\u001b[43mserver_hostname_rm_dot\u001b[49m\u001b[43m,\u001b[49m\n\u001b[1;32m    665\u001b[0m \u001b[43m    \u001b[49m\u001b[43mssl_context\u001b[49m\u001b[38;5;241;43m=\u001b[39;49m\u001b[38;5;28;43mself\u001b[39;49m\u001b[38;5;241;43m.\u001b[39;49m\u001b[43mssl_context\u001b[49m\u001b[43m,\u001b[49m\n\u001b[1;32m    666\u001b[0m \u001b[43m    \u001b[49m\u001b[43mtls_in_tls\u001b[49m\u001b[38;5;241;43m=\u001b[39;49m\u001b[43mtls_in_tls\u001b[49m\u001b[43m,\u001b[49m\n\u001b[1;32m    667\u001b[0m \u001b[43m    \u001b[49m\u001b[43massert_hostname\u001b[49m\u001b[38;5;241;43m=\u001b[39;49m\u001b[38;5;28;43mself\u001b[39;49m\u001b[38;5;241;43m.\u001b[39;49m\u001b[43massert_hostname\u001b[49m\u001b[43m,\u001b[49m\n\u001b[1;32m    668\u001b[0m \u001b[43m    \u001b[49m\u001b[43massert_fingerprint\u001b[49m\u001b[38;5;241;43m=\u001b[39;49m\u001b[38;5;28;43mself\u001b[39;49m\u001b[38;5;241;43m.\u001b[39;49m\u001b[43massert_fingerprint\u001b[49m\u001b[43m,\u001b[49m\n\u001b[1;32m    669\u001b[0m \u001b[43m\u001b[49m\u001b[43m)\u001b[49m\n\u001b[1;32m    670\u001b[0m \u001b[38;5;28mself\u001b[39m\u001b[38;5;241m.\u001b[39msock \u001b[38;5;241m=\u001b[39m sock_and_verified\u001b[38;5;241m.\u001b[39msocket\n",
      "File \u001b[0;32m~/miniconda3/envs/kgc/lib/python3.9/site-packages/urllib3/connection.py:805\u001b[0m, in \u001b[0;36m_ssl_wrap_socket_and_match_hostname\u001b[0;34m(sock, cert_reqs, ssl_version, ssl_minimum_version, ssl_maximum_version, cert_file, key_file, key_password, ca_certs, ca_cert_dir, ca_cert_data, assert_hostname, assert_fingerprint, server_hostname, ssl_context, tls_in_tls)\u001b[0m\n\u001b[1;32m    803\u001b[0m         server_hostname \u001b[38;5;241m=\u001b[39m normalized\n\u001b[0;32m--> 805\u001b[0m ssl_sock \u001b[38;5;241m=\u001b[39m \u001b[43mssl_wrap_socket\u001b[49m\u001b[43m(\u001b[49m\n\u001b[1;32m    806\u001b[0m \u001b[43m    \u001b[49m\u001b[43msock\u001b[49m\u001b[38;5;241;43m=\u001b[39;49m\u001b[43msock\u001b[49m\u001b[43m,\u001b[49m\n\u001b[1;32m    807\u001b[0m \u001b[43m    \u001b[49m\u001b[43mkeyfile\u001b[49m\u001b[38;5;241;43m=\u001b[39;49m\u001b[43mkey_file\u001b[49m\u001b[43m,\u001b[49m\n\u001b[1;32m    808\u001b[0m \u001b[43m    \u001b[49m\u001b[43mcertfile\u001b[49m\u001b[38;5;241;43m=\u001b[39;49m\u001b[43mcert_file\u001b[49m\u001b[43m,\u001b[49m\n\u001b[1;32m    809\u001b[0m \u001b[43m    \u001b[49m\u001b[43mkey_password\u001b[49m\u001b[38;5;241;43m=\u001b[39;49m\u001b[43mkey_password\u001b[49m\u001b[43m,\u001b[49m\n\u001b[1;32m    810\u001b[0m \u001b[43m    \u001b[49m\u001b[43mca_certs\u001b[49m\u001b[38;5;241;43m=\u001b[39;49m\u001b[43mca_certs\u001b[49m\u001b[43m,\u001b[49m\n\u001b[1;32m    811\u001b[0m \u001b[43m    \u001b[49m\u001b[43mca_cert_dir\u001b[49m\u001b[38;5;241;43m=\u001b[39;49m\u001b[43mca_cert_dir\u001b[49m\u001b[43m,\u001b[49m\n\u001b[1;32m    812\u001b[0m \u001b[43m    \u001b[49m\u001b[43mca_cert_data\u001b[49m\u001b[38;5;241;43m=\u001b[39;49m\u001b[43mca_cert_data\u001b[49m\u001b[43m,\u001b[49m\n\u001b[1;32m    813\u001b[0m \u001b[43m    \u001b[49m\u001b[43mserver_hostname\u001b[49m\u001b[38;5;241;43m=\u001b[39;49m\u001b[43mserver_hostname\u001b[49m\u001b[43m,\u001b[49m\n\u001b[1;32m    814\u001b[0m \u001b[43m    \u001b[49m\u001b[43mssl_context\u001b[49m\u001b[38;5;241;43m=\u001b[39;49m\u001b[43mcontext\u001b[49m\u001b[43m,\u001b[49m\n\u001b[1;32m    815\u001b[0m \u001b[43m    \u001b[49m\u001b[43mtls_in_tls\u001b[49m\u001b[38;5;241;43m=\u001b[39;49m\u001b[43mtls_in_tls\u001b[49m\u001b[43m,\u001b[49m\n\u001b[1;32m    816\u001b[0m \u001b[43m\u001b[49m\u001b[43m)\u001b[49m\n\u001b[1;32m    818\u001b[0m \u001b[38;5;28;01mtry\u001b[39;00m:\n",
      "File \u001b[0;32m~/miniconda3/envs/kgc/lib/python3.9/site-packages/urllib3/util/ssl_.py:465\u001b[0m, in \u001b[0;36mssl_wrap_socket\u001b[0;34m(sock, keyfile, certfile, cert_reqs, ca_certs, server_hostname, ssl_version, ciphers, ssl_context, ca_cert_dir, key_password, ca_cert_data, tls_in_tls)\u001b[0m\n\u001b[1;32m    463\u001b[0m     \u001b[38;5;28;01mpass\u001b[39;00m\n\u001b[0;32m--> 465\u001b[0m ssl_sock \u001b[38;5;241m=\u001b[39m \u001b[43m_ssl_wrap_socket_impl\u001b[49m\u001b[43m(\u001b[49m\u001b[43msock\u001b[49m\u001b[43m,\u001b[49m\u001b[43m \u001b[49m\u001b[43mcontext\u001b[49m\u001b[43m,\u001b[49m\u001b[43m \u001b[49m\u001b[43mtls_in_tls\u001b[49m\u001b[43m,\u001b[49m\u001b[43m \u001b[49m\u001b[43mserver_hostname\u001b[49m\u001b[43m)\u001b[49m\n\u001b[1;32m    466\u001b[0m \u001b[38;5;28;01mreturn\u001b[39;00m ssl_sock\n",
      "File \u001b[0;32m~/miniconda3/envs/kgc/lib/python3.9/site-packages/urllib3/util/ssl_.py:509\u001b[0m, in \u001b[0;36m_ssl_wrap_socket_impl\u001b[0;34m(sock, ssl_context, tls_in_tls, server_hostname)\u001b[0m\n\u001b[1;32m    507\u001b[0m     \u001b[38;5;28;01mreturn\u001b[39;00m SSLTransport(sock, ssl_context, server_hostname)\n\u001b[0;32m--> 509\u001b[0m \u001b[38;5;28;01mreturn\u001b[39;00m \u001b[43mssl_context\u001b[49m\u001b[38;5;241;43m.\u001b[39;49m\u001b[43mwrap_socket\u001b[49m\u001b[43m(\u001b[49m\u001b[43msock\u001b[49m\u001b[43m,\u001b[49m\u001b[43m \u001b[49m\u001b[43mserver_hostname\u001b[49m\u001b[38;5;241;43m=\u001b[39;49m\u001b[43mserver_hostname\u001b[49m\u001b[43m)\u001b[49m\n",
      "File \u001b[0;32m~/miniconda3/envs/kgc/lib/python3.9/ssl.py:501\u001b[0m, in \u001b[0;36mSSLContext.wrap_socket\u001b[0;34m(self, sock, server_side, do_handshake_on_connect, suppress_ragged_eofs, server_hostname, session)\u001b[0m\n\u001b[1;32m    495\u001b[0m \u001b[38;5;28;01mdef\u001b[39;00m \u001b[38;5;21mwrap_socket\u001b[39m(\u001b[38;5;28mself\u001b[39m, sock, server_side\u001b[38;5;241m=\u001b[39m\u001b[38;5;28;01mFalse\u001b[39;00m,\n\u001b[1;32m    496\u001b[0m                 do_handshake_on_connect\u001b[38;5;241m=\u001b[39m\u001b[38;5;28;01mTrue\u001b[39;00m,\n\u001b[1;32m    497\u001b[0m                 suppress_ragged_eofs\u001b[38;5;241m=\u001b[39m\u001b[38;5;28;01mTrue\u001b[39;00m,\n\u001b[1;32m    498\u001b[0m                 server_hostname\u001b[38;5;241m=\u001b[39m\u001b[38;5;28;01mNone\u001b[39;00m, session\u001b[38;5;241m=\u001b[39m\u001b[38;5;28;01mNone\u001b[39;00m):\n\u001b[1;32m    499\u001b[0m     \u001b[38;5;66;03m# SSLSocket class handles server_hostname encoding before it calls\u001b[39;00m\n\u001b[1;32m    500\u001b[0m     \u001b[38;5;66;03m# ctx._wrap_socket()\u001b[39;00m\n\u001b[0;32m--> 501\u001b[0m     \u001b[38;5;28;01mreturn\u001b[39;00m \u001b[38;5;28;43mself\u001b[39;49m\u001b[38;5;241;43m.\u001b[39;49m\u001b[43msslsocket_class\u001b[49m\u001b[38;5;241;43m.\u001b[39;49m\u001b[43m_create\u001b[49m\u001b[43m(\u001b[49m\n\u001b[1;32m    502\u001b[0m \u001b[43m        \u001b[49m\u001b[43msock\u001b[49m\u001b[38;5;241;43m=\u001b[39;49m\u001b[43msock\u001b[49m\u001b[43m,\u001b[49m\n\u001b[1;32m    503\u001b[0m \u001b[43m        \u001b[49m\u001b[43mserver_side\u001b[49m\u001b[38;5;241;43m=\u001b[39;49m\u001b[43mserver_side\u001b[49m\u001b[43m,\u001b[49m\n\u001b[1;32m    504\u001b[0m \u001b[43m        \u001b[49m\u001b[43mdo_handshake_on_connect\u001b[49m\u001b[38;5;241;43m=\u001b[39;49m\u001b[43mdo_handshake_on_connect\u001b[49m\u001b[43m,\u001b[49m\n\u001b[1;32m    505\u001b[0m \u001b[43m        \u001b[49m\u001b[43msuppress_ragged_eofs\u001b[49m\u001b[38;5;241;43m=\u001b[39;49m\u001b[43msuppress_ragged_eofs\u001b[49m\u001b[43m,\u001b[49m\n\u001b[1;32m    506\u001b[0m \u001b[43m        \u001b[49m\u001b[43mserver_hostname\u001b[49m\u001b[38;5;241;43m=\u001b[39;49m\u001b[43mserver_hostname\u001b[49m\u001b[43m,\u001b[49m\n\u001b[1;32m    507\u001b[0m \u001b[43m        \u001b[49m\u001b[43mcontext\u001b[49m\u001b[38;5;241;43m=\u001b[39;49m\u001b[38;5;28;43mself\u001b[39;49m\u001b[43m,\u001b[49m\n\u001b[1;32m    508\u001b[0m \u001b[43m        \u001b[49m\u001b[43msession\u001b[49m\u001b[38;5;241;43m=\u001b[39;49m\u001b[43msession\u001b[49m\n\u001b[1;32m    509\u001b[0m \u001b[43m    \u001b[49m\u001b[43m)\u001b[49m\n",
      "File \u001b[0;32m~/miniconda3/envs/kgc/lib/python3.9/ssl.py:1074\u001b[0m, in \u001b[0;36mSSLSocket._create\u001b[0;34m(cls, sock, server_side, do_handshake_on_connect, suppress_ragged_eofs, server_hostname, context, session)\u001b[0m\n\u001b[1;32m   1073\u001b[0m             \u001b[38;5;28;01mraise\u001b[39;00m \u001b[38;5;167;01mValueError\u001b[39;00m(\u001b[38;5;124m\"\u001b[39m\u001b[38;5;124mdo_handshake_on_connect should not be specified for non-blocking sockets\u001b[39m\u001b[38;5;124m\"\u001b[39m)\n\u001b[0;32m-> 1074\u001b[0m         \u001b[38;5;28;43mself\u001b[39;49m\u001b[38;5;241;43m.\u001b[39;49m\u001b[43mdo_handshake\u001b[49m\u001b[43m(\u001b[49m\u001b[43m)\u001b[49m\n\u001b[1;32m   1075\u001b[0m \u001b[38;5;28;01mexcept\u001b[39;00m (\u001b[38;5;167;01mOSError\u001b[39;00m, \u001b[38;5;167;01mValueError\u001b[39;00m):\n",
      "File \u001b[0;32m~/miniconda3/envs/kgc/lib/python3.9/ssl.py:1343\u001b[0m, in \u001b[0;36mSSLSocket.do_handshake\u001b[0;34m(self, block)\u001b[0m\n\u001b[1;32m   1342\u001b[0m         \u001b[38;5;28mself\u001b[39m\u001b[38;5;241m.\u001b[39msettimeout(\u001b[38;5;28;01mNone\u001b[39;00m)\n\u001b[0;32m-> 1343\u001b[0m     \u001b[38;5;28;43mself\u001b[39;49m\u001b[38;5;241;43m.\u001b[39;49m\u001b[43m_sslobj\u001b[49m\u001b[38;5;241;43m.\u001b[39;49m\u001b[43mdo_handshake\u001b[49m\u001b[43m(\u001b[49m\u001b[43m)\u001b[49m\n\u001b[1;32m   1344\u001b[0m \u001b[38;5;28;01mfinally\u001b[39;00m:\n",
      "\u001b[0;31mSSLZeroReturnError\u001b[0m: TLS/SSL connection has been closed (EOF) (_ssl.c:1133)",
      "\nDuring handling of the above exception, another exception occurred:\n",
      "\u001b[0;31mSSLError\u001b[0m                                  Traceback (most recent call last)",
      "File \u001b[0;32m~/miniconda3/envs/kgc/lib/python3.9/site-packages/urllib3/connectionpool.py:789\u001b[0m, in \u001b[0;36mHTTPConnectionPool.urlopen\u001b[0;34m(self, method, url, body, headers, retries, redirect, assert_same_host, timeout, pool_timeout, release_conn, chunked, body_pos, preload_content, decode_content, **response_kw)\u001b[0m\n\u001b[1;32m    788\u001b[0m \u001b[38;5;66;03m# Make the request on the HTTPConnection object\u001b[39;00m\n\u001b[0;32m--> 789\u001b[0m response \u001b[38;5;241m=\u001b[39m \u001b[38;5;28;43mself\u001b[39;49m\u001b[38;5;241;43m.\u001b[39;49m\u001b[43m_make_request\u001b[49m\u001b[43m(\u001b[49m\n\u001b[1;32m    790\u001b[0m \u001b[43m    \u001b[49m\u001b[43mconn\u001b[49m\u001b[43m,\u001b[49m\n\u001b[1;32m    791\u001b[0m \u001b[43m    \u001b[49m\u001b[43mmethod\u001b[49m\u001b[43m,\u001b[49m\n\u001b[1;32m    792\u001b[0m \u001b[43m    \u001b[49m\u001b[43murl\u001b[49m\u001b[43m,\u001b[49m\n\u001b[1;32m    793\u001b[0m \u001b[43m    \u001b[49m\u001b[43mtimeout\u001b[49m\u001b[38;5;241;43m=\u001b[39;49m\u001b[43mtimeout_obj\u001b[49m\u001b[43m,\u001b[49m\n\u001b[1;32m    794\u001b[0m \u001b[43m    \u001b[49m\u001b[43mbody\u001b[49m\u001b[38;5;241;43m=\u001b[39;49m\u001b[43mbody\u001b[49m\u001b[43m,\u001b[49m\n\u001b[1;32m    795\u001b[0m \u001b[43m    \u001b[49m\u001b[43mheaders\u001b[49m\u001b[38;5;241;43m=\u001b[39;49m\u001b[43mheaders\u001b[49m\u001b[43m,\u001b[49m\n\u001b[1;32m    796\u001b[0m \u001b[43m    \u001b[49m\u001b[43mchunked\u001b[49m\u001b[38;5;241;43m=\u001b[39;49m\u001b[43mchunked\u001b[49m\u001b[43m,\u001b[49m\n\u001b[1;32m    797\u001b[0m \u001b[43m    \u001b[49m\u001b[43mretries\u001b[49m\u001b[38;5;241;43m=\u001b[39;49m\u001b[43mretries\u001b[49m\u001b[43m,\u001b[49m\n\u001b[1;32m    798\u001b[0m \u001b[43m    \u001b[49m\u001b[43mresponse_conn\u001b[49m\u001b[38;5;241;43m=\u001b[39;49m\u001b[43mresponse_conn\u001b[49m\u001b[43m,\u001b[49m\n\u001b[1;32m    799\u001b[0m \u001b[43m    \u001b[49m\u001b[43mpreload_content\u001b[49m\u001b[38;5;241;43m=\u001b[39;49m\u001b[43mpreload_content\u001b[49m\u001b[43m,\u001b[49m\n\u001b[1;32m    800\u001b[0m \u001b[43m    \u001b[49m\u001b[43mdecode_content\u001b[49m\u001b[38;5;241;43m=\u001b[39;49m\u001b[43mdecode_content\u001b[49m\u001b[43m,\u001b[49m\n\u001b[1;32m    801\u001b[0m \u001b[43m    \u001b[49m\u001b[38;5;241;43m*\u001b[39;49m\u001b[38;5;241;43m*\u001b[39;49m\u001b[43mresponse_kw\u001b[49m\u001b[43m,\u001b[49m\n\u001b[1;32m    802\u001b[0m \u001b[43m\u001b[49m\u001b[43m)\u001b[49m\n\u001b[1;32m    804\u001b[0m \u001b[38;5;66;03m# Everything went great!\u001b[39;00m\n",
      "File \u001b[0;32m~/miniconda3/envs/kgc/lib/python3.9/site-packages/urllib3/connectionpool.py:490\u001b[0m, in \u001b[0;36mHTTPConnectionPool._make_request\u001b[0;34m(self, conn, method, url, body, headers, retries, timeout, chunked, response_conn, preload_content, decode_content, enforce_content_length)\u001b[0m\n\u001b[1;32m    489\u001b[0m         new_e \u001b[38;5;241m=\u001b[39m _wrap_proxy_error(new_e, conn\u001b[38;5;241m.\u001b[39mproxy\u001b[38;5;241m.\u001b[39mscheme)\n\u001b[0;32m--> 490\u001b[0m     \u001b[38;5;28;01mraise\u001b[39;00m new_e\n\u001b[1;32m    492\u001b[0m \u001b[38;5;66;03m# conn.request() calls http.client.*.request, not the method in\u001b[39;00m\n\u001b[1;32m    493\u001b[0m \u001b[38;5;66;03m# urllib3.request. It also calls makefile (recv) on the socket.\u001b[39;00m\n",
      "\u001b[0;31mSSLError\u001b[0m: TLS/SSL connection has been closed (EOF) (_ssl.c:1133)",
      "\nThe above exception was the direct cause of the following exception:\n",
      "\u001b[0;31mMaxRetryError\u001b[0m                             Traceback (most recent call last)",
      "File \u001b[0;32m~/miniconda3/envs/kgc/lib/python3.9/site-packages/requests/adapters.py:667\u001b[0m, in \u001b[0;36mHTTPAdapter.send\u001b[0;34m(self, request, stream, timeout, verify, cert, proxies)\u001b[0m\n\u001b[1;32m    666\u001b[0m \u001b[38;5;28;01mtry\u001b[39;00m:\n\u001b[0;32m--> 667\u001b[0m     resp \u001b[38;5;241m=\u001b[39m \u001b[43mconn\u001b[49m\u001b[38;5;241;43m.\u001b[39;49m\u001b[43murlopen\u001b[49m\u001b[43m(\u001b[49m\n\u001b[1;32m    668\u001b[0m \u001b[43m        \u001b[49m\u001b[43mmethod\u001b[49m\u001b[38;5;241;43m=\u001b[39;49m\u001b[43mrequest\u001b[49m\u001b[38;5;241;43m.\u001b[39;49m\u001b[43mmethod\u001b[49m\u001b[43m,\u001b[49m\n\u001b[1;32m    669\u001b[0m \u001b[43m        \u001b[49m\u001b[43murl\u001b[49m\u001b[38;5;241;43m=\u001b[39;49m\u001b[43murl\u001b[49m\u001b[43m,\u001b[49m\n\u001b[1;32m    670\u001b[0m \u001b[43m        \u001b[49m\u001b[43mbody\u001b[49m\u001b[38;5;241;43m=\u001b[39;49m\u001b[43mrequest\u001b[49m\u001b[38;5;241;43m.\u001b[39;49m\u001b[43mbody\u001b[49m\u001b[43m,\u001b[49m\n\u001b[1;32m    671\u001b[0m \u001b[43m        \u001b[49m\u001b[43mheaders\u001b[49m\u001b[38;5;241;43m=\u001b[39;49m\u001b[43mrequest\u001b[49m\u001b[38;5;241;43m.\u001b[39;49m\u001b[43mheaders\u001b[49m\u001b[43m,\u001b[49m\n\u001b[1;32m    672\u001b[0m \u001b[43m        \u001b[49m\u001b[43mredirect\u001b[49m\u001b[38;5;241;43m=\u001b[39;49m\u001b[38;5;28;43;01mFalse\u001b[39;49;00m\u001b[43m,\u001b[49m\n\u001b[1;32m    673\u001b[0m \u001b[43m        \u001b[49m\u001b[43massert_same_host\u001b[49m\u001b[38;5;241;43m=\u001b[39;49m\u001b[38;5;28;43;01mFalse\u001b[39;49;00m\u001b[43m,\u001b[49m\n\u001b[1;32m    674\u001b[0m \u001b[43m        \u001b[49m\u001b[43mpreload_content\u001b[49m\u001b[38;5;241;43m=\u001b[39;49m\u001b[38;5;28;43;01mFalse\u001b[39;49;00m\u001b[43m,\u001b[49m\n\u001b[1;32m    675\u001b[0m \u001b[43m        \u001b[49m\u001b[43mdecode_content\u001b[49m\u001b[38;5;241;43m=\u001b[39;49m\u001b[38;5;28;43;01mFalse\u001b[39;49;00m\u001b[43m,\u001b[49m\n\u001b[1;32m    676\u001b[0m \u001b[43m        \u001b[49m\u001b[43mretries\u001b[49m\u001b[38;5;241;43m=\u001b[39;49m\u001b[38;5;28;43mself\u001b[39;49m\u001b[38;5;241;43m.\u001b[39;49m\u001b[43mmax_retries\u001b[49m\u001b[43m,\u001b[49m\n\u001b[1;32m    677\u001b[0m \u001b[43m        \u001b[49m\u001b[43mtimeout\u001b[49m\u001b[38;5;241;43m=\u001b[39;49m\u001b[43mtimeout\u001b[49m\u001b[43m,\u001b[49m\n\u001b[1;32m    678\u001b[0m \u001b[43m        \u001b[49m\u001b[43mchunked\u001b[49m\u001b[38;5;241;43m=\u001b[39;49m\u001b[43mchunked\u001b[49m\u001b[43m,\u001b[49m\n\u001b[1;32m    679\u001b[0m \u001b[43m    \u001b[49m\u001b[43m)\u001b[49m\n\u001b[1;32m    681\u001b[0m \u001b[38;5;28;01mexcept\u001b[39;00m (ProtocolError, \u001b[38;5;167;01mOSError\u001b[39;00m) \u001b[38;5;28;01mas\u001b[39;00m err:\n",
      "File \u001b[0;32m~/miniconda3/envs/kgc/lib/python3.9/site-packages/urllib3/connectionpool.py:843\u001b[0m, in \u001b[0;36mHTTPConnectionPool.urlopen\u001b[0;34m(self, method, url, body, headers, retries, redirect, assert_same_host, timeout, pool_timeout, release_conn, chunked, body_pos, preload_content, decode_content, **response_kw)\u001b[0m\n\u001b[1;32m    841\u001b[0m     new_e \u001b[38;5;241m=\u001b[39m ProtocolError(\u001b[38;5;124m\"\u001b[39m\u001b[38;5;124mConnection aborted.\u001b[39m\u001b[38;5;124m\"\u001b[39m, new_e)\n\u001b[0;32m--> 843\u001b[0m retries \u001b[38;5;241m=\u001b[39m \u001b[43mretries\u001b[49m\u001b[38;5;241;43m.\u001b[39;49m\u001b[43mincrement\u001b[49m\u001b[43m(\u001b[49m\n\u001b[1;32m    844\u001b[0m \u001b[43m    \u001b[49m\u001b[43mmethod\u001b[49m\u001b[43m,\u001b[49m\u001b[43m \u001b[49m\u001b[43murl\u001b[49m\u001b[43m,\u001b[49m\u001b[43m \u001b[49m\u001b[43merror\u001b[49m\u001b[38;5;241;43m=\u001b[39;49m\u001b[43mnew_e\u001b[49m\u001b[43m,\u001b[49m\u001b[43m \u001b[49m\u001b[43m_pool\u001b[49m\u001b[38;5;241;43m=\u001b[39;49m\u001b[38;5;28;43mself\u001b[39;49m\u001b[43m,\u001b[49m\u001b[43m \u001b[49m\u001b[43m_stacktrace\u001b[49m\u001b[38;5;241;43m=\u001b[39;49m\u001b[43msys\u001b[49m\u001b[38;5;241;43m.\u001b[39;49m\u001b[43mexc_info\u001b[49m\u001b[43m(\u001b[49m\u001b[43m)\u001b[49m\u001b[43m[\u001b[49m\u001b[38;5;241;43m2\u001b[39;49m\u001b[43m]\u001b[49m\n\u001b[1;32m    845\u001b[0m \u001b[43m\u001b[49m\u001b[43m)\u001b[49m\n\u001b[1;32m    846\u001b[0m retries\u001b[38;5;241m.\u001b[39msleep()\n",
      "File \u001b[0;32m~/miniconda3/envs/kgc/lib/python3.9/site-packages/urllib3/util/retry.py:519\u001b[0m, in \u001b[0;36mRetry.increment\u001b[0;34m(self, method, url, response, error, _pool, _stacktrace)\u001b[0m\n\u001b[1;32m    518\u001b[0m     reason \u001b[38;5;241m=\u001b[39m error \u001b[38;5;129;01mor\u001b[39;00m ResponseError(cause)\n\u001b[0;32m--> 519\u001b[0m     \u001b[38;5;28;01mraise\u001b[39;00m MaxRetryError(_pool, url, reason) \u001b[38;5;28;01mfrom\u001b[39;00m \u001b[38;5;21;01mreason\u001b[39;00m  \u001b[38;5;66;03m# type: ignore[arg-type]\u001b[39;00m\n\u001b[1;32m    521\u001b[0m log\u001b[38;5;241m.\u001b[39mdebug(\u001b[38;5;124m\"\u001b[39m\u001b[38;5;124mIncremented Retry for (url=\u001b[39m\u001b[38;5;124m'\u001b[39m\u001b[38;5;132;01m%s\u001b[39;00m\u001b[38;5;124m'\u001b[39m\u001b[38;5;124m): \u001b[39m\u001b[38;5;132;01m%r\u001b[39;00m\u001b[38;5;124m\"\u001b[39m, url, new_retry)\n",
      "\u001b[0;31mMaxRetryError\u001b[0m: HTTPSConnectionPool(host='api.openalex.org', port=443): Max retries exceeded with url: /works/https://doi.org/10.1016/j.apcatb.2010.02.030 (Caused by SSLError(SSLZeroReturnError(6, 'TLS/SSL connection has been closed (EOF) (_ssl.c:1133)')))",
      "\nDuring handling of the above exception, another exception occurred:\n",
      "\u001b[0;31mSSLError\u001b[0m                                  Traceback (most recent call last)",
      "Cell \u001b[0;32mIn[6], line 6\u001b[0m\n\u001b[1;32m      4\u001b[0m \u001b[38;5;66;03m#for doi in papers_df['DOI']:\u001b[39;00m\n\u001b[1;32m      5\u001b[0m \u001b[38;5;28;01mfor\u001b[39;00m index, row \u001b[38;5;129;01min\u001b[39;00m papers_df\u001b[38;5;241m.\u001b[39miterrows():\n\u001b[0;32m----> 6\u001b[0m     response \u001b[38;5;241m=\u001b[39m \u001b[43mrequests\u001b[49m\u001b[38;5;241;43m.\u001b[39;49m\u001b[43mget\u001b[49m\u001b[43m(\u001b[49m\u001b[43mquery\u001b[49m\u001b[38;5;241;43m.\u001b[39;49m\u001b[43mformat\u001b[49m\u001b[43m(\u001b[49m\u001b[43mrow\u001b[49m\u001b[43m[\u001b[49m\u001b[38;5;124;43m'\u001b[39;49m\u001b[38;5;124;43mDOI\u001b[39;49m\u001b[38;5;124;43m'\u001b[39;49m\u001b[43m]\u001b[49m\u001b[43m)\u001b[49m\u001b[43m,\u001b[49m\u001b[43m \u001b[49m\u001b[43mheaders\u001b[49m\u001b[38;5;241;43m=\u001b[39;49m\u001b[43mheaders\u001b[49m\u001b[43m)\u001b[49m\n\u001b[1;32m      8\u001b[0m     \u001b[38;5;28;01mif\u001b[39;00m response\u001b[38;5;241m.\u001b[39mstatus_code \u001b[38;5;241m==\u001b[39m \u001b[38;5;241m200\u001b[39m:\n\u001b[1;32m      9\u001b[0m         res_json \u001b[38;5;241m=\u001b[39m response\u001b[38;5;241m.\u001b[39mjson()\n",
      "File \u001b[0;32m~/miniconda3/envs/kgc/lib/python3.9/site-packages/requests/api.py:73\u001b[0m, in \u001b[0;36mget\u001b[0;34m(url, params, **kwargs)\u001b[0m\n\u001b[1;32m     62\u001b[0m \u001b[38;5;28;01mdef\u001b[39;00m \u001b[38;5;21mget\u001b[39m(url, params\u001b[38;5;241m=\u001b[39m\u001b[38;5;28;01mNone\u001b[39;00m, \u001b[38;5;241m*\u001b[39m\u001b[38;5;241m*\u001b[39mkwargs):\n\u001b[1;32m     63\u001b[0m \u001b[38;5;250m    \u001b[39m\u001b[38;5;124mr\u001b[39m\u001b[38;5;124;03m\"\"\"Sends a GET request.\u001b[39;00m\n\u001b[1;32m     64\u001b[0m \n\u001b[1;32m     65\u001b[0m \u001b[38;5;124;03m    :param url: URL for the new :class:`Request` object.\u001b[39;00m\n\u001b[0;32m   (...)\u001b[0m\n\u001b[1;32m     70\u001b[0m \u001b[38;5;124;03m    :rtype: requests.Response\u001b[39;00m\n\u001b[1;32m     71\u001b[0m \u001b[38;5;124;03m    \"\"\"\u001b[39;00m\n\u001b[0;32m---> 73\u001b[0m     \u001b[38;5;28;01mreturn\u001b[39;00m \u001b[43mrequest\u001b[49m\u001b[43m(\u001b[49m\u001b[38;5;124;43m\"\u001b[39;49m\u001b[38;5;124;43mget\u001b[39;49m\u001b[38;5;124;43m\"\u001b[39;49m\u001b[43m,\u001b[49m\u001b[43m \u001b[49m\u001b[43murl\u001b[49m\u001b[43m,\u001b[49m\u001b[43m \u001b[49m\u001b[43mparams\u001b[49m\u001b[38;5;241;43m=\u001b[39;49m\u001b[43mparams\u001b[49m\u001b[43m,\u001b[49m\u001b[43m \u001b[49m\u001b[38;5;241;43m*\u001b[39;49m\u001b[38;5;241;43m*\u001b[39;49m\u001b[43mkwargs\u001b[49m\u001b[43m)\u001b[49m\n",
      "File \u001b[0;32m~/miniconda3/envs/kgc/lib/python3.9/site-packages/requests/api.py:59\u001b[0m, in \u001b[0;36mrequest\u001b[0;34m(method, url, **kwargs)\u001b[0m\n\u001b[1;32m     55\u001b[0m \u001b[38;5;66;03m# By using the 'with' statement we are sure the session is closed, thus we\u001b[39;00m\n\u001b[1;32m     56\u001b[0m \u001b[38;5;66;03m# avoid leaving sockets open which can trigger a ResourceWarning in some\u001b[39;00m\n\u001b[1;32m     57\u001b[0m \u001b[38;5;66;03m# cases, and look like a memory leak in others.\u001b[39;00m\n\u001b[1;32m     58\u001b[0m \u001b[38;5;28;01mwith\u001b[39;00m sessions\u001b[38;5;241m.\u001b[39mSession() \u001b[38;5;28;01mas\u001b[39;00m session:\n\u001b[0;32m---> 59\u001b[0m     \u001b[38;5;28;01mreturn\u001b[39;00m \u001b[43msession\u001b[49m\u001b[38;5;241;43m.\u001b[39;49m\u001b[43mrequest\u001b[49m\u001b[43m(\u001b[49m\u001b[43mmethod\u001b[49m\u001b[38;5;241;43m=\u001b[39;49m\u001b[43mmethod\u001b[49m\u001b[43m,\u001b[49m\u001b[43m \u001b[49m\u001b[43murl\u001b[49m\u001b[38;5;241;43m=\u001b[39;49m\u001b[43murl\u001b[49m\u001b[43m,\u001b[49m\u001b[43m \u001b[49m\u001b[38;5;241;43m*\u001b[39;49m\u001b[38;5;241;43m*\u001b[39;49m\u001b[43mkwargs\u001b[49m\u001b[43m)\u001b[49m\n",
      "File \u001b[0;32m~/miniconda3/envs/kgc/lib/python3.9/site-packages/requests/sessions.py:589\u001b[0m, in \u001b[0;36mSession.request\u001b[0;34m(self, method, url, params, data, headers, cookies, files, auth, timeout, allow_redirects, proxies, hooks, stream, verify, cert, json)\u001b[0m\n\u001b[1;32m    584\u001b[0m send_kwargs \u001b[38;5;241m=\u001b[39m {\n\u001b[1;32m    585\u001b[0m     \u001b[38;5;124m\"\u001b[39m\u001b[38;5;124mtimeout\u001b[39m\u001b[38;5;124m\"\u001b[39m: timeout,\n\u001b[1;32m    586\u001b[0m     \u001b[38;5;124m\"\u001b[39m\u001b[38;5;124mallow_redirects\u001b[39m\u001b[38;5;124m\"\u001b[39m: allow_redirects,\n\u001b[1;32m    587\u001b[0m }\n\u001b[1;32m    588\u001b[0m send_kwargs\u001b[38;5;241m.\u001b[39mupdate(settings)\n\u001b[0;32m--> 589\u001b[0m resp \u001b[38;5;241m=\u001b[39m \u001b[38;5;28;43mself\u001b[39;49m\u001b[38;5;241;43m.\u001b[39;49m\u001b[43msend\u001b[49m\u001b[43m(\u001b[49m\u001b[43mprep\u001b[49m\u001b[43m,\u001b[49m\u001b[43m \u001b[49m\u001b[38;5;241;43m*\u001b[39;49m\u001b[38;5;241;43m*\u001b[39;49m\u001b[43msend_kwargs\u001b[49m\u001b[43m)\u001b[49m\n\u001b[1;32m    591\u001b[0m \u001b[38;5;28;01mreturn\u001b[39;00m resp\n",
      "File \u001b[0;32m~/miniconda3/envs/kgc/lib/python3.9/site-packages/requests/sessions.py:703\u001b[0m, in \u001b[0;36mSession.send\u001b[0;34m(self, request, **kwargs)\u001b[0m\n\u001b[1;32m    700\u001b[0m start \u001b[38;5;241m=\u001b[39m preferred_clock()\n\u001b[1;32m    702\u001b[0m \u001b[38;5;66;03m# Send the request\u001b[39;00m\n\u001b[0;32m--> 703\u001b[0m r \u001b[38;5;241m=\u001b[39m \u001b[43madapter\u001b[49m\u001b[38;5;241;43m.\u001b[39;49m\u001b[43msend\u001b[49m\u001b[43m(\u001b[49m\u001b[43mrequest\u001b[49m\u001b[43m,\u001b[49m\u001b[43m \u001b[49m\u001b[38;5;241;43m*\u001b[39;49m\u001b[38;5;241;43m*\u001b[39;49m\u001b[43mkwargs\u001b[49m\u001b[43m)\u001b[49m\n\u001b[1;32m    705\u001b[0m \u001b[38;5;66;03m# Total elapsed time of the request (approximately)\u001b[39;00m\n\u001b[1;32m    706\u001b[0m elapsed \u001b[38;5;241m=\u001b[39m preferred_clock() \u001b[38;5;241m-\u001b[39m start\n",
      "File \u001b[0;32m~/miniconda3/envs/kgc/lib/python3.9/site-packages/requests/adapters.py:698\u001b[0m, in \u001b[0;36mHTTPAdapter.send\u001b[0;34m(self, request, stream, timeout, verify, cert, proxies)\u001b[0m\n\u001b[1;32m    694\u001b[0m         \u001b[38;5;28;01mraise\u001b[39;00m ProxyError(e, request\u001b[38;5;241m=\u001b[39mrequest)\n\u001b[1;32m    696\u001b[0m     \u001b[38;5;28;01mif\u001b[39;00m \u001b[38;5;28misinstance\u001b[39m(e\u001b[38;5;241m.\u001b[39mreason, _SSLError):\n\u001b[1;32m    697\u001b[0m         \u001b[38;5;66;03m# This branch is for urllib3 v1.22 and later.\u001b[39;00m\n\u001b[0;32m--> 698\u001b[0m         \u001b[38;5;28;01mraise\u001b[39;00m SSLError(e, request\u001b[38;5;241m=\u001b[39mrequest)\n\u001b[1;32m    700\u001b[0m     \u001b[38;5;28;01mraise\u001b[39;00m \u001b[38;5;167;01mConnectionError\u001b[39;00m(e, request\u001b[38;5;241m=\u001b[39mrequest)\n\u001b[1;32m    702\u001b[0m \u001b[38;5;28;01mexcept\u001b[39;00m ClosedPoolError \u001b[38;5;28;01mas\u001b[39;00m e:\n",
      "\u001b[0;31mSSLError\u001b[0m: HTTPSConnectionPool(host='api.openalex.org', port=443): Max retries exceeded with url: /works/https://doi.org/10.1016/j.apcatb.2010.02.030 (Caused by SSLError(SSLZeroReturnError(6, 'TLS/SSL connection has been closed (EOF) (_ssl.c:1133)')))"
     ]
    }
   ],
   "source": [
    "headers = {'Accept': 'application/json'}\n",
    "query ='https://api.openalex.org/works/https://doi.org/{}'\n",
    "\n",
    "#for doi in papers_df['DOI']:\n",
    "for index, row in papers_df.iterrows():\n",
    "    response = requests.get(query.format(row['DOI']), headers=headers)\n",
    "    \n",
    "    if response.status_code == 200:\n",
    "        res_json = response.json()\n",
    "        res_json['solar_id'] = row['No_de_Ref']\n",
    "        with open('data/jsonOA/'+str(row['No_de_Ref'])+'.json', 'w') as file:\n",
    "            file.write(json.dumps(res_json, indent=4))\n",
    "    else:\n",
    "        print(f\"Error with {row['DOI']}, id {str(row['No_de_Ref'])}\")\n",
    "    \n"
   ]
  },
  {
   "cell_type": "markdown",
   "id": "0f14cd9c",
   "metadata": {},
   "source": [
    "### Merging individual JSONs into one single file"
   ]
  },
  {
   "cell_type": "code",
   "execution_count": null,
   "id": "6405b1a7",
   "metadata": {},
   "outputs": [],
   "source": [
    "path = '../data/raw/jsonOA/'\n",
    "json_file_names = os.listdir(path)\n",
    "\n",
    "try:\n",
    "    json_file_names.remove('.DS_Store')\n",
    "except:\n",
    "    pass"
   ]
  },
  {
   "cell_type": "code",
   "execution_count": 28,
   "id": "ceaec6be",
   "metadata": {},
   "outputs": [],
   "source": [
    "merged_json = []\n",
    "for file in json_file_names:\n",
    "    filename = path + file\n",
    "    with open(filename, 'r') as infile:\n",
    "        merged_json.append(json.load(infile))\n",
    "    \n",
    "with open('../data/processed/papersOA.json', 'w') as out_json:\n",
    "    json.dump(merged_json, out_json)"
   ]
  },
  {
   "cell_type": "markdown",
   "id": "c632f6bb",
   "metadata": {},
   "source": [
    "## Processing `catalystdata.csv`"
   ]
  },
  {
   "cell_type": "code",
   "execution_count": 12,
   "id": "3bed30eb",
   "metadata": {},
   "outputs": [],
   "source": [
    "exp_df = pd.read_csv(\"../data/raw/raw-catalystsdata.csv\")"
   ]
  },
  {
   "cell_type": "markdown",
   "id": "d5f74afc",
   "metadata": {},
   "source": [
    "### Cleaning null values\n",
    "Negative numbers and values that serve as null"
   ]
  },
  {
   "cell_type": "code",
   "execution_count": 13,
   "id": "ab549242",
   "metadata": {
    "scrolled": true
   },
   "outputs": [
    {
     "data": {
      "text/html": [
       "<div>\n",
       "<style scoped>\n",
       "    .dataframe tbody tr th:only-of-type {\n",
       "        vertical-align: middle;\n",
       "    }\n",
       "\n",
       "    .dataframe tbody tr th {\n",
       "        vertical-align: top;\n",
       "    }\n",
       "\n",
       "    .dataframe thead th {\n",
       "        text-align: right;\n",
       "    }\n",
       "</style>\n",
       "<table border=\"1\" class=\"dataframe\">\n",
       "  <thead>\n",
       "    <tr style=\"text-align: right;\">\n",
       "      <th></th>\n",
       "      <th>ID</th>\n",
       "      <th>No_de_Ref</th>\n",
       "      <th>Catalyst_name</th>\n",
       "      <th>TiO2_crystal_structure</th>\n",
       "      <th>Catalyst</th>\n",
       "      <th>Support</th>\n",
       "      <th>support_percent</th>\n",
       "      <th>Co_catalyst</th>\n",
       "      <th>co_catalyst_2</th>\n",
       "      <th>co_catalyst_3</th>\n",
       "      <th>...</th>\n",
       "      <th>C4H10_mol_m2h</th>\n",
       "      <th>C5H10_mol_m2h</th>\n",
       "      <th>C5H12_mol_m2h</th>\n",
       "      <th>CH3OH_mol_m2h</th>\n",
       "      <th>C2H5OH_mol_m2h</th>\n",
       "      <th>CH3COH_mol_m2h</th>\n",
       "      <th>HCOOH_mol_m2h</th>\n",
       "      <th>CH2O_mol_m2h</th>\n",
       "      <th>C2H4O2_mol_m2h</th>\n",
       "      <th>timestamp</th>\n",
       "    </tr>\n",
       "  </thead>\n",
       "  <tbody>\n",
       "    <tr>\n",
       "      <th>0</th>\n",
       "      <td>1</td>\n",
       "      <td>1</td>\n",
       "      <td>TiO2</td>\n",
       "      <td>Anatase</td>\n",
       "      <td>TiO2</td>\n",
       "      <td>NaN</td>\n",
       "      <td></td>\n",
       "      <td>NaN</td>\n",
       "      <td>NaN</td>\n",
       "      <td>NaN</td>\n",
       "      <td>...</td>\n",
       "      <td></td>\n",
       "      <td></td>\n",
       "      <td></td>\n",
       "      <td>0.01</td>\n",
       "      <td></td>\n",
       "      <td></td>\n",
       "      <td></td>\n",
       "      <td></td>\n",
       "      <td></td>\n",
       "      <td>0000-00-00 00:00:00</td>\n",
       "    </tr>\n",
       "    <tr>\n",
       "      <th>1</th>\n",
       "      <td>2</td>\n",
       "      <td>1</td>\n",
       "      <td>TiO2</td>\n",
       "      <td>Anatase</td>\n",
       "      <td>TiO2</td>\n",
       "      <td>NaN</td>\n",
       "      <td></td>\n",
       "      <td>Ag</td>\n",
       "      <td>NaN</td>\n",
       "      <td>NaN</td>\n",
       "      <td>...</td>\n",
       "      <td></td>\n",
       "      <td></td>\n",
       "      <td></td>\n",
       "      <td>0.01</td>\n",
       "      <td></td>\n",
       "      <td></td>\n",
       "      <td></td>\n",
       "      <td></td>\n",
       "      <td></td>\n",
       "      <td>0000-00-00 00:00:00</td>\n",
       "    </tr>\n",
       "    <tr>\n",
       "      <th>2</th>\n",
       "      <td>3</td>\n",
       "      <td>1</td>\n",
       "      <td>Ag/TiO2</td>\n",
       "      <td>Anatase</td>\n",
       "      <td>TiO2</td>\n",
       "      <td>NaN</td>\n",
       "      <td></td>\n",
       "      <td>Ag</td>\n",
       "      <td>NaN</td>\n",
       "      <td>NaN</td>\n",
       "      <td>...</td>\n",
       "      <td></td>\n",
       "      <td></td>\n",
       "      <td></td>\n",
       "      <td>0.01</td>\n",
       "      <td></td>\n",
       "      <td></td>\n",
       "      <td></td>\n",
       "      <td></td>\n",
       "      <td></td>\n",
       "      <td>0000-00-00 00:00:00</td>\n",
       "    </tr>\n",
       "    <tr>\n",
       "      <th>3</th>\n",
       "      <td>4</td>\n",
       "      <td>1</td>\n",
       "      <td>Ag/TiO2</td>\n",
       "      <td>Anatase</td>\n",
       "      <td>TiO2</td>\n",
       "      <td>NaN</td>\n",
       "      <td></td>\n",
       "      <td>Ag</td>\n",
       "      <td>NaN</td>\n",
       "      <td>NaN</td>\n",
       "      <td>...</td>\n",
       "      <td></td>\n",
       "      <td></td>\n",
       "      <td></td>\n",
       "      <td>0.02</td>\n",
       "      <td></td>\n",
       "      <td></td>\n",
       "      <td></td>\n",
       "      <td></td>\n",
       "      <td></td>\n",
       "      <td>0000-00-00 00:00:00</td>\n",
       "    </tr>\n",
       "    <tr>\n",
       "      <th>4</th>\n",
       "      <td>5</td>\n",
       "      <td>1</td>\n",
       "      <td>Ag/TiO2</td>\n",
       "      <td>Anatase</td>\n",
       "      <td>TiO2</td>\n",
       "      <td>NaN</td>\n",
       "      <td></td>\n",
       "      <td>Ag</td>\n",
       "      <td>NaN</td>\n",
       "      <td>NaN</td>\n",
       "      <td>...</td>\n",
       "      <td></td>\n",
       "      <td></td>\n",
       "      <td></td>\n",
       "      <td>0.03</td>\n",
       "      <td></td>\n",
       "      <td></td>\n",
       "      <td></td>\n",
       "      <td></td>\n",
       "      <td></td>\n",
       "      <td>0000-00-00 00:00:00</td>\n",
       "    </tr>\n",
       "  </tbody>\n",
       "</table>\n",
       "<p>5 rows × 95 columns</p>\n",
       "</div>"
      ],
      "text/plain": [
       "   ID  No_de_Ref Catalyst_name TiO2_crystal_structure Catalyst Support  \\\n",
       "0   1          1          TiO2                Anatase     TiO2     NaN   \n",
       "1   2          1          TiO2                Anatase     TiO2     NaN   \n",
       "2   3          1       Ag/TiO2                Anatase     TiO2     NaN   \n",
       "3   4          1       Ag/TiO2                Anatase     TiO2     NaN   \n",
       "4   5          1       Ag/TiO2                Anatase     TiO2     NaN   \n",
       "\n",
       "  support_percent Co_catalyst co_catalyst_2 co_catalyst_3  ... C4H10_mol_m2h  \\\n",
       "0                         NaN           NaN           NaN  ...                 \n",
       "1                          Ag           NaN           NaN  ...                 \n",
       "2                          Ag           NaN           NaN  ...                 \n",
       "3                          Ag           NaN           NaN  ...                 \n",
       "4                          Ag           NaN           NaN  ...                 \n",
       "\n",
       "  C5H10_mol_m2h C5H12_mol_m2h CH3OH_mol_m2h C2H5OH_mol_m2h CH3COH_mol_m2h  \\\n",
       "0                                      0.01                                 \n",
       "1                                      0.01                                 \n",
       "2                                      0.01                                 \n",
       "3                                      0.02                                 \n",
       "4                                      0.03                                 \n",
       "\n",
       "  HCOOH_mol_m2h CH2O_mol_m2h C2H4O2_mol_m2h            timestamp  \n",
       "0                                            0000-00-00 00:00:00  \n",
       "1                                            0000-00-00 00:00:00  \n",
       "2                                            0000-00-00 00:00:00  \n",
       "3                                            0000-00-00 00:00:00  \n",
       "4                                            0000-00-00 00:00:00  \n",
       "\n",
       "[5 rows x 95 columns]"
      ]
     },
     "execution_count": 13,
     "metadata": {},
     "output_type": "execute_result"
    }
   ],
   "source": [
    "exp_df.replace([-1,\"-1\", -1.0, 0.0, 9999.99], '', inplace=True)\n",
    "exp_df.head(5)"
   ]
  },
  {
   "cell_type": "markdown",
   "id": "91763b1f",
   "metadata": {},
   "source": [
    "### Cleaning values in columns  with numeric values \n",
    "In the column `Masscat_g` some values are float (g), others have different measurements corresponding to different concepts or even comments. Filtering out all that do not correspond to grams.\n",
    "\n",
    "Similar issues happen for the percentages of other types of inputs for co-catalysts, supports etc. "
   ]
  },
  {
   "cell_type": "code",
   "execution_count": 14,
   "id": "f26093cd",
   "metadata": {},
   "outputs": [],
   "source": [
    "def clean_numeric_colums(value):\n",
    "    try:\n",
    "        value = float(value)\n",
    "        if value == 0.0:\n",
    "            return('')\n",
    "        else:\n",
    "            return(value)\n",
    "    \n",
    "    except ValueError or TypeError:\n",
    "        return('')\n",
    "    \n",
    "exp_df.Masscat_g = exp_df.Masscat_g.apply(clean_numeric_colums)\n",
    "exp_df.support_percent = exp_df.support_percent.apply(clean_numeric_colums)\n",
    "exp_df.percent = exp_df.percent.apply(clean_numeric_colums)\n",
    "exp_df.percent_cc_2 = exp_df.percent_cc_2.apply(clean_numeric_colums)\n",
    "exp_df.percent_cc_3 = exp_df.percent_cc_3.apply(clean_numeric_colums)\n",
    "exp_df.dopant_percent = exp_df.dopant_percent.apply(clean_numeric_colums)\n",
    "exp_df.dye_percent = exp_df.dye_percent.apply(clean_numeric_colums)"
   ]
  },
  {
   "cell_type": "markdown",
   "id": "3b3db39e",
   "metadata": {},
   "source": [
    "### Aligning values with ontology hierarchies"
   ]
  },
  {
   "cell_type": "markdown",
   "id": "a69eefc5",
   "metadata": {},
   "source": [
    "#### Reactor types"
   ]
  },
  {
   "cell_type": "code",
   "execution_count": 15,
   "id": "e3f85af3",
   "metadata": {},
   "outputs": [
    {
     "data": {
      "text/plain": [
       "array(['Slurry', 'Fixed-bed', 'Optical Fiber', 'Monolithic', 'Membrane',\n",
       "       'Fluidised-bed', ''], dtype=object)"
      ]
     },
     "execution_count": 15,
     "metadata": {},
     "output_type": "execute_result"
    }
   ],
   "source": [
    "exp_df['Reactor_type'] = exp_df['Reactor_type'].replace((' ', 'Batch'), '')\n",
    "exp_df.Reactor_type.unique()"
   ]
  },
  {
   "cell_type": "markdown",
   "id": "d57c6af8",
   "metadata": {},
   "source": [
    "#### Light Sources"
   ]
  },
  {
   "cell_type": "code",
   "execution_count": 16,
   "id": "399565aa",
   "metadata": {},
   "outputs": [
    {
     "data": {
      "text/plain": [
       "array(['https://purl.obolibrary.org/obo/OBI_0002900',\n",
       "       'https://purl.obolibrary.org/obo/OBI_0002902',\n",
       "       'https://purl.obolibrary.org/obo/OBI_0002901',\n",
       "       'https://w3id.org/solar/o/core#UltravioletVisibleLightSource',\n",
       "       'Solar Simulator',\n",
       "       'https://w3id.org/solar/o/core#MonochromaticLightSource'],\n",
       "      dtype=object)"
      ]
     },
     "execution_count": 16,
     "metadata": {},
     "output_type": "execute_result"
    }
   ],
   "source": [
    "exp_df['Light_source'] = exp_df['Light_source'].replace(' ', '')\n",
    "exp_df['Light_source'] = exp_df['Light_source'].replace({\"UV\":\"https://purl.obolibrary.org/obo/OBI_0002900\", \n",
    "                              \"Visible\":\"https://purl.obolibrary.org/obo/OBI_0002901\", \n",
    "                              \"Vis\":\"https://purl.obolibrary.org/obo/OBI_0002901\", \n",
    "                              \"Solar\":\"https://purl.obolibrary.org/obo/OBI_0002902\",  \n",
    "                              \"UV-Vis\":\"https://w3id.org/solar/o/core#UltravioletVisibleLightSource\", \n",
    "                              \"SolarSimulator\":\"https://w3id.org/solar/o/core#SolarSimulatorLightSource\", \n",
    "                              \"Monochromatic\":\"https://w3id.org/solar/o/core#MonochromaticLightSource\"})\n",
    "exp_df.Light_source.unique()"
   ]
  },
  {
   "cell_type": "markdown",
   "id": "453a1453",
   "metadata": {},
   "source": [
    "#### Lamps"
   ]
  },
  {
   "cell_type": "code",
   "execution_count": 17,
   "id": "b434b9bb",
   "metadata": {},
   "outputs": [
    {
     "data": {
      "text/plain": [
       "array(['https://w3id.org/solar/o/core#MercuryLamp',\n",
       "       'https://w3id.org/solar/o/core#FluorescentLamp',\n",
       "       'https://w3id.org/nfdi4cat/voc4cat_0000168',\n",
       "       'https://w3id.org/solar/o/core#SolarSimulatorLamp',\n",
       "       'https://w3id.org/solar/o/core#HalogenLamp', '',\n",
       "       'https://w3id.org/solar/o/core#Tungsten-HalideLamp',\n",
       "       'https://w3id.org/nfdi4cat/voc4cat_0000169',\n",
       "       'https://w3id.org/solar/o/core#OtherLamp',\n",
       "       'https://w3id.org/solar/o/core#LEDLamp',\n",
       "       'https://w3id.org/solar/o/core#TungstenLamp', nan], dtype=object)"
      ]
     },
     "execution_count": 17,
     "metadata": {},
     "output_type": "execute_result"
    }
   ],
   "source": [
    "exp_df['Lamp'] = exp_df['Lamp'].replace({\"Mercury(Hg)\":\"https://w3id.org/solar/o/core#MercuryLamp\", \n",
    "                              \"Xenon(Xe)\":\"https://w3id.org/nfdi4cat/voc4cat_0000168\", \n",
    "                              \"Solar\":\"https://w3id.org/solar/o/core#SolarSimulatorLamp\",  \n",
    "                              \"Not spedified\":\"\", \n",
    "                              \"Mercury-Xenon(Hg-Xe)\":\"https://w3id.org/nfdi4cat/voc4cat_0000169\", \n",
    "                              \"Tungsten(W)\":\"https://w3id.org/solar/o/core#TungstenLamp\", \n",
    "                              \"Fluorescent\":\"https://w3id.org/solar/o/core#FluorescentLamp\", \n",
    "                              \"Halogen\":\"https://w3id.org/solar/o/core#HalogenLamp\", \n",
    "                              \"Tungsten-Halide\":\"https://w3id.org/solar/o/core#Tungsten-HalideLamp\", \n",
    "                              \"LED\":\"https://w3id.org/solar/o/core#LEDLamp\", \n",
    "                              \"Other\":\"https://w3id.org/solar/o/core#OtherLamp\"})\n",
    "exp_df.Lamp.unique()"
   ]
  },
  {
   "cell_type": "markdown",
   "id": "dac2cec4",
   "metadata": {},
   "source": [
    "#### Operation modes"
   ]
  },
  {
   "cell_type": "code",
   "execution_count": 18,
   "id": "3993e344",
   "metadata": {},
   "outputs": [
    {
     "data": {
      "text/plain": [
       "array(['https://w3id.org/nfdi4cat/voc4cat_0000110',\n",
       "       'https://w3id.org/nfdi4cat/voc4cat_0000109'], dtype=object)"
      ]
     },
     "execution_count": 18,
     "metadata": {},
     "output_type": "execute_result"
    }
   ],
   "source": [
    "exp_df['Operation_mode'] = exp_df['Operation_mode'].replace({ \n",
    "                              \"Batch\":\"https://w3id.org/nfdi4cat/voc4cat_0000110\",\n",
    "                              \"Continuous\":\"https://w3id.org/nfdi4cat/voc4cat_0000109\",})\n",
    "exp_df.Operation_mode.unique()"
   ]
  },
  {
   "cell_type": "markdown",
   "id": "88d2ab6f",
   "metadata": {},
   "source": [
    "#### Wavelengths"
   ]
  },
  {
   "cell_type": "code",
   "execution_count": 19,
   "id": "1c07d5f1",
   "metadata": {},
   "outputs": [
    {
     "data": {
      "text/plain": [
       "array(['192-280', '315-400', '280-315', '400-780', None, '315-780',\n",
       "       '192-780', '280-780', ''], dtype=object)"
      ]
     },
     "execution_count": 19,
     "metadata": {},
     "output_type": "execute_result"
    }
   ],
   "source": [
    "def set_wavelengths(wl):\n",
    "    try:\n",
    "        wl = float(wl)\n",
    "        if (wl) >= 192 and (wl) <= 280:\n",
    "            return(\"192-280\")\n",
    "        elif (wl) >= 280 and (wl) <= 315:\n",
    "            return(\"280-315\")\n",
    "        elif (wl) >= 315 and (wl) <= 400:\n",
    "            return(\"315-400\")\n",
    "        elif (wl) >= 400 and (wl) <= 780:\n",
    "            return(\"400-780\")\n",
    "        elif (wl) >= 315 and (wl) <= 780:\n",
    "            return(\"315-780\")\n",
    "        elif (wl) >= 280 and (wl) <= 780:\n",
    "            return(\"280-780\")\n",
    "        elif (wl) >= 192 and (wl) <= 780:\n",
    "            return(\"192-780\")\n",
    "        \n",
    "    except ValueError:\n",
    "        wl = wl.replace('192-280(UV-A)', '192-280')\n",
    "        wl = wl.replace('315-400(UV-C)', '315-400')\n",
    "        wl = wl.replace('280-315(UV-B)', '280-315')\n",
    "        return(wl)\n",
    "    \n",
    "    except TypeError:\n",
    "        return('')\n",
    "    \n",
    "\n",
    "exp_df.Wavelength_nm = exp_df.Wavelength_nm.apply(set_wavelengths)\n",
    "exp_df.Wavelength_nm.unique()    \n"
   ]
  },
  {
   "cell_type": "markdown",
   "id": "f3746734",
   "metadata": {},
   "source": [
    "### CO2 production"
   ]
  },
  {
   "cell_type": "code",
   "execution_count": 20,
   "id": "0b41e47c",
   "metadata": {},
   "outputs": [],
   "source": [
    "def co2_production(CO, CH4, C2H4, C2H6, C3H6, C3H8, C4H8, C4H10, C5H10, C5H12, CH3OH, C2H5OH, CH3COH, HCOOH, CH2O, C2H4O2):\n",
    "    values = []\n",
    "    for var in [CO, CH4, CH3OH, HCOOH, CH2O]:\n",
    "        try:\n",
    "            float(var)\n",
    "            values.append(var)\n",
    "        except:\n",
    "            pass\n",
    "\n",
    "    for var in [C2H4, C2H6, C2H5OH, C2H4O2, CH3COH]:\n",
    "        try:\n",
    "            float(var)\n",
    "            values.append(var*2)\n",
    "        except:\n",
    "            pass\n",
    "\n",
    "    for var in [C3H6, C3H8]:\n",
    "        try:\n",
    "            float(var)\n",
    "            values.append(var*3)\n",
    "        except:\n",
    "            pass\n",
    "\n",
    "    for var in [C4H8, C4H10]:\n",
    "        try:\n",
    "            float(var)\n",
    "            values.append(var*4)\n",
    "        except:\n",
    "            pass\n",
    "\n",
    "    for var in [C5H10, C5H12]:\n",
    "        try:\n",
    "            float(var)\n",
    "            values.append(var*5)\n",
    "        except:\n",
    "            pass\n",
    "    if sum(values) == 0.0:\n",
    "        return('')\n",
    "    else:\n",
    "        return(sum(values))"
   ]
  },
  {
   "cell_type": "code",
   "execution_count": 21,
   "id": "8b55d326",
   "metadata": {},
   "outputs": [],
   "source": [
    "#print(co2_production(exp_df.CO_mol_gh.iloc[0], exp_df.CH4_mol_gh.iloc[0], exp_df.C2H4_mol_gh.iloc[0], exp_df.C2H6_mol_gh.iloc[0], exp_df.C3H6_mol_gh.iloc[0], exp_df.C3H8_mol_gh.iloc[0], exp_df.C4H8_mol_gh.iloc[0], exp_df.C4H10_mol_gh.iloc[0], exp_df.C5H10_mol_gh.iloc[0], exp_df.C5H12_mol_gh.iloc[0], exp_df.CH3OH_mol_gh.iloc[0], exp_df.C2H5OH_mol_gh.iloc[0], exp_df.CH3COH_mol_gh.iloc[0], exp_df.HCOOH_mol_gh.iloc[0], exp_df.CH2O_mol_gh.iloc[0], exp_df.C2H4O2_mol_gh))\n",
    "\n",
    "exp_df['co2_prod_molgh'] = exp_df.apply(lambda x: co2_production(x['CO_mol_gh'], x['CH4_mol_gh'], x['C2H4_mol_gh'], x['C2H6_mol_gh'], x['C3H6_mol_gh'], x['C3H8_mol_gh'], x['C4H8_mol_gh'], x['C4H10_mol_gh'], x['C5H10_mol_gh'], x['C5H12_mol_gh'], x['CH3OH_mol_gh'], x['C2H5OH_mol_gh'], x['CH3COH_mol_gh'], x['HCOOH_mol_gh'], x['CH2O_mol_gh'], x['C2H4O2_mol_gh']), axis=1)\n",
    "exp_df['co2_prod_molg'] = exp_df.apply(lambda x: co2_production(x['CO_mol_g'], x['CH4_mol_g'], x['C2H4_mol_g'], x['C2H6_mol_g'], x['C3H6_mol_g'], x['C3H8_mol_g'], x['C4H8_mol_g'], x['C4H10_mol_g'], x['C5H10_mol_g'], x['C5H12_mol_g'], x['CH3OH_mol_g'], x['C2H5OH_mol_g'], x['CH3COH_mol_g'], x['HCOOH_mol_g'], x['CH2O_mol_g'], x['C2H4O2_mol_g']), axis=1)\n",
    "exp_df['co2_prod_molm2h'] = exp_df.apply(lambda x: co2_production(x['CO_mol_m2h'], x['CH4_mol_m2h'], x['C2H4_mol_m2h'], x['C2H6_mol_m2h'], x['C3H6_mol_m2h'], x['C3H8_mol_m2h'], x['C4H8_mol_m2h'], x['C4H10_mol_m2h'], x['C5H10_mol_m2h'], x['C5H12_mol_m2h'], x['CH3OH_mol_m2h'], x['C2H5OH_mol_m2h'], x['CH3COH_mol_m2h'], x['HCOOH_mol_m2h'], x['CH2O_mol_m2h'], x['C2H4O2_mol_m2h']), axis=1)"
   ]
  },
  {
   "cell_type": "code",
   "execution_count": null,
   "id": "bcffe8f2",
   "metadata": {},
   "outputs": [],
   "source": [
    "exp_df['co2_prod_molg']\n"
   ]
  },
  {
   "cell_type": "markdown",
   "id": "6e5ca16a",
   "metadata": {},
   "source": [
    "### Catalyst selectivity \n"
   ]
  },
  {
   "cell_type": "code",
   "execution_count": 22,
   "id": "55950c7c",
   "metadata": {},
   "outputs": [],
   "source": [
    "def selectivity(product, H2, CO, CH4, CH3OH):\n",
    "    if product == '':\n",
    "        return('')\n",
    "    \n",
    "    values = []\n",
    "    for value in [H2, CO, CH4, CH3OH]:\n",
    "        try:\n",
    "            values.append(float(value))\n",
    "        except:\n",
    "            values.append(0.0)\n",
    "\n",
    "    sum_values = sum(values)\n",
    "    return ((product/sum_values)*100)\n",
    "    "
   ]
  },
  {
   "cell_type": "code",
   "execution_count": 23,
   "id": "16e580d3",
   "metadata": {},
   "outputs": [],
   "source": [
    "exp_df['h2_selectivity_molg'] = exp_df.apply(lambda x: selectivity( x['H2_mol_g'], x['CO_mol_g'], x['CH4_mol_g'], x['H2_mol_g'], x['CH3OH_mol_g']), axis=1)\n",
    "exp_df['ch4_selectivity_molg'] = exp_df.apply(lambda x: selectivity( x['CH4_mol_g'], x['CO_mol_g'], x['CH4_mol_g'], x['H2_mol_g'], x['CH3OH_mol_g']), axis=1)\n",
    "exp_df['co_selectivity_molg'] = exp_df.apply(lambda x: selectivity( x['CO_mol_g'], x['CO_mol_g'], x['CH4_mol_g'], x['H2_mol_g'], x['CH3OH_mol_g']), axis=1)\n",
    "exp_df['ch3oh_selectivity_molg'] = exp_df.apply(lambda x: selectivity( x['CH3OH_mol_g'], x['CO_mol_g'], x['CH4_mol_g'], x['H2_mol_g'], x['CH3OH_mol_g']), axis=1)\n"
   ]
  },
  {
   "cell_type": "markdown",
   "id": "b656c7f4",
   "metadata": {},
   "source": [
    "### Export"
   ]
  },
  {
   "cell_type": "code",
   "execution_count": 24,
   "id": "356e98a7",
   "metadata": {},
   "outputs": [],
   "source": [
    "exp_df.to_csv(\"../data/processed/catalystsdata.csv\", index=False, sep=\",\")"
   ]
  }
 ],
 "metadata": {
  "kernelspec": {
   "display_name": "kgc",
   "language": "python",
   "name": "python3"
  },
  "language_info": {
   "codemirror_mode": {
    "name": "ipython",
    "version": 3
   },
   "file_extension": ".py",
   "mimetype": "text/x-python",
   "name": "python",
   "nbconvert_exporter": "python",
   "pygments_lexer": "ipython3",
   "version": "3.9.19"
  }
 },
 "nbformat": 4,
 "nbformat_minor": 5
}
